{
 "cells": [
  {
   "cell_type": "markdown",
   "id": "7db1bffb",
   "metadata": {},
   "source": [
    "## Import Libraries"
   ]
  },
  {
   "cell_type": "code",
   "execution_count": 1,
   "id": "b2ebcc02",
   "metadata": {},
   "outputs": [],
   "source": [
    "import json\n",
    "\n",
    "from prettytable import PrettyTable\n",
    "from stringMatcher import levenshtein_ratio_and_distance\n",
    "from time import time\n",
    "\n",
    "table = PrettyTable(field_names=[\"Size\", \"Rating\", \"Reviews\",\"Downloads\", \"Current App Version\", \"Device Requirements\"])"
   ]
  },
  {
   "cell_type": "markdown",
   "id": "c419fb46",
   "metadata": {},
   "source": [
    "## Load The Database"
   ]
  },
  {
   "cell_type": "code",
   "execution_count": 2,
   "id": "1fc65da6",
   "metadata": {},
   "outputs": [],
   "source": [
    "data = json.load(open(\"Datastore/dataFinal.json\", \"rb\"))"
   ]
  },
  {
   "cell_type": "markdown",
   "id": "c1bf4f82",
   "metadata": {},
   "source": [
    "## Load The Global Secondary Index"
   ]
  },
  {
   "cell_type": "code",
   "execution_count": 3,
   "id": "3af83f30",
   "metadata": {},
   "outputs": [],
   "source": [
    "GIS = json.load(open(\"Datastore/dataFinal_GIS.json\", \"rb\"))"
   ]
  },
  {
   "cell_type": "markdown",
   "id": "2329e6e8",
   "metadata": {},
   "source": [
    "## Write a function to search the movies by ```Title```"
   ]
  },
  {
   "cell_type": "code",
   "execution_count": 4,
   "id": "8594b809",
   "metadata": {},
   "outputs": [],
   "source": [
    "def getClosestMatch(queryString):\n",
    "    # Initialize the time counter...\n",
    "    tic                  = time()\n",
    "    \n",
    "    # Find closest match of the queryString from the Global Secondary Index...\n",
    "    matchRatios          = [levenshtein_ratio_and_distance(queryString, KEY) for KEY, _ in GIS.items()]\n",
    "    bestMatchRatio       = max(matchRatios)\n",
    "\n",
    "    # If the best match ratio is less than 50% then we will assume that the records doesn't exist...\n",
    "    if (bestMatchRatio < 0.5):\n",
    "        return {\n",
    "            \"response code\" : 404,\n",
    "            \"search time\"   : f\"{time()-tic} seconds\",\n",
    "            \"message\"       : \"error\",\n",
    "            \"response body\" : \"no match found\"\n",
    "        }\n",
    "    \n",
    "    # Otherwise...\n",
    "    bestMatchRatio_index = matchRatios.index(bestMatchRatio)\n",
    "\n",
    "    # Find the App_id which is the best match to the queryString...\n",
    "    bestMatch_AppTitle = list(GIS)[bestMatchRatio_index]\n",
    "    bestMatch_AppID    = GIS[bestMatch_AppTitle]\n",
    "\n",
    "    # Now we have the App_id which is the primary search key in our main data-store...\n",
    "    # Retrieve the details of the movie from the AppID\n",
    "    appInfo            = data[str(bestMatch_AppID)]\n",
    "    \n",
    "    # Mark the search completion time...\n",
    "    toc                  = time()\n",
    "\n",
    "    # Add Application's Title to the response...\n",
    "    appInfo[\"Title\"] = bestMatch_AppTitle\n",
    "    # Construct the response Model...\n",
    "    responseModel = {\n",
    "        \"response code\" : 200,\n",
    "        \"search time\"   : f\"{toc-tic} seconds\",\n",
    "        \"message\"       : \"success\",\n",
    "        \"response body\" : appInfo\n",
    "    }\n",
    "    \n",
    "    return responseModel"
   ]
  },
  {
   "cell_type": "markdown",
   "id": "8d735887",
   "metadata": {},
   "source": [
    "## Function to make the request and visualize the data"
   ]
  },
  {
   "cell_type": "code",
   "execution_count": 5,
   "id": "2b9ab5d8",
   "metadata": {},
   "outputs": [],
   "source": [
    "def request(appToSearch=\"\"):\n",
    "    # Application's name should always be in a string...\n",
    "    appToSearch = str(appToSearch)\n",
    "    # Check if the application name is valid or not...\n",
    "    if(appToSearch.replace(\" \", \"\").strip() == \"\"):\n",
    "        return f\"Invalid Movie Name\"\n",
    "    \n",
    "    # Make a request to fetch the app info...\n",
    "    response = getClosestMatch(queryString = appToSearch)\n",
    "\n",
    "    # Check the response code...\n",
    "    if response[\"response code\"] == 404:\n",
    "        return f\"ERROR: No records found\"\n",
    "    \n",
    "    # otherwise...\n",
    "    # Construct the rating and specifications table...\n",
    "    Size   = response[\"response body\"][\"Size\"]\n",
    "    Rating = response[\"response body\"][\"Average Rating\"]\n",
    "    Reviews = response[\"response body\"][\"Reviews\"]\n",
    "    Downloads = response[\"response body\"][\"Downloads\"]\n",
    "    Curr_Version = response[\"response body\"][\"Current Version\"]\n",
    "    Android = response[\"response body\"][\"Android Version\"]\n",
    "    \n",
    "    #table\n",
    "    table.add_row([Size, Rating, Reviews, Downloads, Curr_Version, Android])\n",
    "    # Now we need to check if a user has given \n",
    "    data_to_print = f\"\\\n",
    "    Title               : {response['response body']['Title']}\\n\\\n",
    "    Genre               : {response['response body']['Genre']}\\n\\\n",
    "    Ratings and Specs   : ---------------------------\\n\\\n",
    "    \"\n",
    "    print(data_to_print)\n",
    "    print(table)"
   ]
  },
  {
   "cell_type": "markdown",
   "id": "8b78e7a1",
   "metadata": {},
   "source": [
    "## Time to Search"
   ]
  },
  {
   "cell_type": "code",
   "execution_count": 6,
   "id": "6c52e393",
   "metadata": {},
   "outputs": [
    {
     "name": "stdout",
     "output_type": "stream",
     "text": [
      "    Title               : WhatsApp Messenger\n",
      "    Genre               : COMMUNICATION\n",
      "    Ratings and Specs   : ---------------------------\n",
      "    \n",
      "+--------------------+--------+----------+----------------+---------------------+---------------------+\n",
      "|        Size        | Rating | Reviews  |   Downloads    | Current App Version | Device Requirements |\n",
      "+--------------------+--------+----------+----------------+---------------------+---------------------+\n",
      "| Varies with device |  4.4   | 69109672 | 1,000,000,000+ |  Varies with device |  Varies with device |\n",
      "+--------------------+--------+----------+----------------+---------------------+---------------------+\n"
     ]
    }
   ],
   "source": [
    "request(appToSearch=\"Watsap mesngar\")"
   ]
  },
  {
   "cell_type": "markdown",
   "id": "0c09304f",
   "metadata": {},
   "source": [
    "### Hence our code is complete and works even for mis-spelled queries"
   ]
  }
 ],
 "metadata": {
  "kernelspec": {
   "display_name": "Python 3",
   "language": "python",
   "name": "python3"
  },
  "language_info": {
   "codemirror_mode": {
    "name": "ipython",
    "version": 3
   },
   "file_extension": ".py",
   "mimetype": "text/x-python",
   "name": "python",
   "nbconvert_exporter": "python",
   "pygments_lexer": "ipython3",
   "version": "3.8.8"
  }
 },
 "nbformat": 4,
 "nbformat_minor": 5
}
